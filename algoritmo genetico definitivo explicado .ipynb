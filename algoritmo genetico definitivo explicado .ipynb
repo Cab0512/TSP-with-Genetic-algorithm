{
 "cells": [
  {
   "cell_type": "markdown",
   "id": "d50fbcf3",
   "metadata": {},
   "source": [
    "Librerias necesarias"
   ]
  },
  {
   "cell_type": "code",
   "execution_count": 1,
   "id": "2d159af6",
   "metadata": {},
   "outputs": [],
   "source": [
    "import numpy as np, random, operator, pandas as pd, matplotlib.pyplot as plt"
   ]
  },
  {
   "cell_type": "markdown",
   "id": "5dd6bfa0",
   "metadata": {},
   "source": [
    "Definimos nuestra clase para los nodos, se llamaran \"city\" porque en el problema del vendedor viajero son ciudades"
   ]
  },
  {
   "cell_type": "code",
   "execution_count": 2,
   "id": "9a6819a4",
   "metadata": {},
   "outputs": [],
   "source": [
    "class City:\n",
    "    def __init__(self, x, y): #inicia mi nodo\n",
    "        self.x = x\n",
    "        self.y = y\n",
    "    \n",
    "    def distance(self, city):                  #distancia euclidada de mi nodo con otro nodo\n",
    "        xDis = abs(self.x - city.x)\n",
    "        yDis = abs(self.y - city.y)\n",
    "        distance = np.sqrt((xDis ** 2) + (yDis ** 2))\n",
    "        return distance\n",
    "    \n",
    "    def __repr__(self):                                        #retorna el nodo\n",
    "        return \"(\" + str(self.x) + \",\" + str(self.y) + \")\"\n",
    "    def retx(self):\n",
    "        return self.x\n",
    "    def rety(self):\n",
    "        return self.y"
   ]
  },
  {
   "cell_type": "markdown",
   "id": "0dacf399",
   "metadata": {},
   "source": [
    "Luego necesitaremos una funcion que me calcule la distancia de un recorrido, para eso generaremos una clase que guarde esto. Por temas de bibliografia (y contexto del problema) la función se llamará fitness"
   ]
  },
  {
   "cell_type": "code",
   "execution_count": 3,
   "id": "4907c87f",
   "metadata": {},
   "outputs": [],
   "source": [
    "class Fitness:\n",
    "    def __init__(self, route):    #routa es una lista con city en el orden que seran visitadas\n",
    "        self.route = route\n",
    "        self.distance = 0\n",
    "        self.fitness= 0.0\n",
    "    \n",
    "    def routeDistance(self):    #calculamos la distancia de la ruta\n",
    "        if self.distance ==0:\n",
    "            pathDistance = 0                    \n",
    "            for i in range(0, len(self.route)):\n",
    "                fromCity = self.route[i]\n",
    "                toCity = None\n",
    "                if i + 1 < len(self.route):\n",
    "                    toCity = self.route[i + 1]\n",
    "                else:\n",
    "                    toCity = self.route[0]\n",
    "                pathDistance += fromCity.distance(toCity)\n",
    "            self.distance = pathDistance\n",
    "        return self.distance\n",
    "    \n",
    "    def routeFitness(self):    \n",
    "        if self.fitness == 0:\n",
    "            self.fitness = 1 / float(self.routeDistance())    #queremos minimizar la distancia equivalente a maxmizar 1/fitness\n",
    "        return self.fitness"
   ]
  },
  {
   "cell_type": "markdown",
   "id": "0e90f052",
   "metadata": {},
   "source": [
    "# Creamos nuestra población inicial"
   ]
  },
  {
   "cell_type": "markdown",
   "id": "da62c2b9",
   "metadata": {},
   "source": [
    "Necesitamos crear una rutas aleatorias"
   ]
  },
  {
   "cell_type": "code",
   "execution_count": 4,
   "id": "d74a425e",
   "metadata": {},
   "outputs": [],
   "source": [
    "def createRoute(cityList):\n",
    "    route = random.sample(cityList, len(cityList))\n",
    "    return route"
   ]
  },
  {
   "cell_type": "markdown",
   "id": "f3798964",
   "metadata": {},
   "source": [
    "Primera población, es decir primera lista de rutas (que sera aleatoria)    "
   ]
  },
  {
   "cell_type": "code",
   "execution_count": 5,
   "id": "88abf14d",
   "metadata": {},
   "outputs": [],
   "source": [
    "def initialPopulation(popSize, cityList):\n",
    "    population = []\n",
    "\n",
    "    for i in range(0, popSize):\n",
    "        population.append(createRoute(cityList))\n",
    "    return population"
   ]
  },
  {
   "cell_type": "markdown",
   "id": "c212c6c9",
   "metadata": {},
   "source": [
    "# Algoritmo genetico "
   ]
  },
  {
   "cell_type": "markdown",
   "id": "3d8a3aa6",
   "metadata": {},
   "source": [
    "Resultados de la población"
   ]
  },
  {
   "cell_type": "code",
   "execution_count": 6,
   "id": "4d0cc8c5",
   "metadata": {},
   "outputs": [],
   "source": [
    "def rankRoutes(population):   #rankeamos nuestras rutas \n",
    "    fitnessResults = {}\n",
    "    for i in range(0,len(population)):\n",
    "        fitnessResults[i] = Fitness(population[i]).routeFitness()\n",
    "    return sorted(fitnessResults.items(), key = operator.itemgetter(1), reverse = True)"
   ]
  },
  {
   "cell_type": "markdown",
   "id": "bf4d67be",
   "metadata": {},
   "source": [
    "Creamos una función de seleccion para crear la lista de rutas padres"
   ]
  },
  {
   "cell_type": "markdown",
   "id": "fb41d6c7",
   "metadata": {},
   "source": [
    "Familia de soluciones: \n",
    "- Elite (1 o 2) \n",
    "- Cruce dos soluciones -> nueva \n",
    "- Mutación -> 1 solucion la cambia otra nueva \n",
    "Si tiene solucion optima, es dificil de hallar n!"
   ]
  },
  {
   "cell_type": "code",
   "execution_count": 7,
   "id": "43ab68ce",
   "metadata": {},
   "outputs": [],
   "source": [
    "def selection(popRanked, eliteSize):\n",
    "    resultselecion = []\n",
    "    df = pd.DataFrame(np.array(popRanked), columns=[\"Index\",\"Fitness\"])\n",
    "    df['cum_sum'] = df.Fitness.cumsum()\n",
    "    df['cum_perc'] = 100*df.cum_sum/df.Fitness.sum()\n",
    "    \n",
    "    for i in range(0, eliteSize):\n",
    "        resultselecion.append(popRanked[i][0])\n",
    "    for i in range(0, len(popRanked) - eliteSize):\n",
    "        pick = 100*random.random()\n",
    "        for i in range(0, len(popRanked)):\n",
    "            if pick <= df.iat[i,3]:\n",
    "                resultselecion.append(popRanked[i][0])\n",
    "                break\n",
    "    return resultselecion"
   ]
  },
  {
   "cell_type": "markdown",
   "id": "ca75547a",
   "metadata": {},
   "source": [
    "Crear un pozo de funciones para el apareamiento"
   ]
  },
  {
   "cell_type": "code",
   "execution_count": 8,
   "id": "4f703757",
   "metadata": {},
   "outputs": [],
   "source": [
    "def matingPool(population, selectionResults):\n",
    "    matingpool = []\n",
    "    for i in range(0, len(selectionResults)):\n",
    "        index = selectionResults[i]\n",
    "        matingpool.append(population[index])\n",
    "    return matingpool"
   ]
  },
  {
   "cell_type": "markdown",
   "id": "c9ca6718",
   "metadata": {},
   "source": [
    "Funcion para obtener un hijo de dos padres"
   ]
  },
  {
   "cell_type": "code",
   "execution_count": 9,
   "id": "1d031c36",
   "metadata": {},
   "outputs": [],
   "source": [
    "def breed(parent1, parent2):\n",
    "    child = []\n",
    "    childP1 = []\n",
    "    childP2 = []\n",
    "    \n",
    "    geneA = int(random.random() * len(parent1))\n",
    "    geneB = int(random.random() * len(parent1))\n",
    "    \n",
    "    startGene = min(geneA, geneB)\n",
    "    endGene = max(geneA, geneB)\n",
    "\n",
    "    for i in range(startGene, endGene):\n",
    "        childP1.append(parent1[i])\n",
    "        \n",
    "    childP2 = [item for item in parent2 if item not in childP1]\n",
    "\n",
    "    child = childP1 + childP2\n",
    "    return child"
   ]
  },
  {
   "cell_type": "markdown",
   "id": "8a6789a2",
   "metadata": {},
   "source": [
    "Funcion Breed pero para un pozo de varias funciones"
   ]
  },
  {
   "cell_type": "code",
   "execution_count": 10,
   "id": "e651832d",
   "metadata": {},
   "outputs": [],
   "source": [
    "def breedPopulation(matingpool, eliteSize):\n",
    "    children = []\n",
    "    length = len(matingpool) - eliteSize\n",
    "    pool = random.sample(matingpool, len(matingpool))   #reordenamos nuestro pool de forma aleatoria\n",
    "\n",
    "    for i in range(0,eliteSize):\n",
    "        children.append(matingpool[i])\n",
    "    \n",
    "    for i in range(0, length):\n",
    "        child = breed(pool[i], pool[len(matingpool)-i-1])\n",
    "        children.append(child)\n",
    "    return children"
   ]
  },
  {
   "cell_type": "markdown",
   "id": "2a2ee6de",
   "metadata": {},
   "source": [
    "Mutacion de una ruta"
   ]
  },
  {
   "cell_type": "code",
   "execution_count": 11,
   "id": "bd98204a",
   "metadata": {},
   "outputs": [],
   "source": [
    "def mutate(individual, mutationRate):\n",
    "    for swapped in range(len(individual)):\n",
    "        if(random.random() < mutationRate):\n",
    "            swapWith = int(random.random() * len(individual))\n",
    "            \n",
    "            city1 = individual[swapped]\n",
    "            city2 = individual[swapWith]\n",
    "            \n",
    "            individual[swapped] = city2\n",
    "            individual[swapWith] = city1\n",
    "    return individual"
   ]
  },
  {
   "cell_type": "markdown",
   "id": "868e4ec1",
   "metadata": {},
   "source": [
    "Aplicar mutaciones a una población"
   ]
  },
  {
   "cell_type": "code",
   "execution_count": 12,
   "id": "a134679b",
   "metadata": {},
   "outputs": [],
   "source": [
    "def mutatePopulation(population, mutationRate):\n",
    "    mutatedPop = []\n",
    "    \n",
    "    for ind in range(0, len(population)):\n",
    "            if ind!=0:\n",
    "                #agregar un if si la elite no se quiere que mute\n",
    "                mutatedInd = mutate(population[ind], mutationRate)\n",
    "            else:\n",
    "                mutatedInd=population[ind]     #eleccion para mantener solucion optima\n",
    "            mutatedPop.append(mutatedInd)\n",
    "    return mutatedPop"
   ]
  },
  {
   "cell_type": "markdown",
   "id": "54d46295",
   "metadata": {},
   "source": [
    "Creamos nuestra nueva población, con la elite los hijos y las mutaciones\n"
   ]
  },
  {
   "cell_type": "code",
   "execution_count": 13,
   "id": "2d2edaed",
   "metadata": {},
   "outputs": [],
   "source": [
    "def nextGeneration(currentGen, eliteSize, mutationRate):\n",
    "    popRanked = rankRoutes(currentGen)\n",
    "    selectionResults = selection(popRanked, eliteSize)  #escogemos a nuestra elite\n",
    "    matingpool = matingPool(currentGen, selectionResults)\n",
    "    children = breedPopulation(matingpool, eliteSize)\n",
    "    nextGeneration = mutatePopulation(children, mutationRate)\n",
    "    return nextGeneration"
   ]
  },
  {
   "cell_type": "markdown",
   "id": "34b0df3c",
   "metadata": {},
   "source": [
    "AL final creamos el algoritmo genetico  (bastante simple teniendo todas las funciones anteriores)"
   ]
  },
  {
   "cell_type": "code",
   "execution_count": 14,
   "id": "3247ce10",
   "metadata": {},
   "outputs": [],
   "source": [
    "def geneticAlgorithm(population, popSize, eliteSize, mutationRate, generations):\n",
    "    pop = initialPopulation(popSize, population)\n",
    "    print(\"Initial distance: \" + str(1 / rankRoutes(pop)[0][1]))\n",
    "    \n",
    "    for i in range(0, generations):\n",
    "        pop = nextGeneration(pop, eliteSize, mutationRate)\n",
    "    \n",
    "    print(\"Final distance: \" + str(1 / rankRoutes(pop)[0][1]))\n",
    "    bestRouteIndex = rankRoutes(pop)[0][0]\n",
    "    bestRoute = pop[bestRouteIndex]\n",
    "    return bestRoute"
   ]
  },
  {
   "cell_type": "markdown",
   "id": "8350dbfa",
   "metadata": {},
   "source": [
    "# Solo falta hacer correr nuestro algoritmo genetico"
   ]
  },
  {
   "cell_type": "code",
   "execution_count": 15,
   "id": "3330396d",
   "metadata": {},
   "outputs": [],
   "source": [
    "cityList = []\n",
    "\n",
    "for i in range(0,20):\n",
    "    cityList.append(City(x=int(random.random() * 200), y=int(random.random() * 200)))"
   ]
  },
  {
   "cell_type": "code",
   "execution_count": 25,
   "id": "20743707",
   "metadata": {},
   "outputs": [
    {
     "name": "stdout",
     "output_type": "stream",
     "text": [
      "Initial distance: 1406.2150385543086\n",
      "Final distance: 691.8326222431343\n"
     ]
    },
    {
     "data": {
      "text/plain": [
       "[(66,95),\n",
       " (52,62),\n",
       " (19,52),\n",
       " (23,37),\n",
       " (86,33),\n",
       " (125,57),\n",
       " (106,101),\n",
       " (116,104),\n",
       " (152,89),\n",
       " (181,99),\n",
       " (173,113),\n",
       " (152,155),\n",
       " (77,191),\n",
       " (61,156),\n",
       " (64,152),\n",
       " (42,136),\n",
       " (28,151),\n",
       " (7,150),\n",
       " (20,104),\n",
       " (32,81)]"
      ]
     },
     "execution_count": 25,
     "metadata": {},
     "output_type": "execute_result"
    }
   ],
   "source": [
    "geneticAlgorithm(population=cityList, popSize=100, eliteSize=20, mutationRate=0.01, generations=500)"
   ]
  },
  {
   "cell_type": "markdown",
   "id": "87a26479",
   "metadata": {},
   "source": [
    "# Y si ploteamos el fitnnes"
   ]
  },
  {
   "cell_type": "code",
   "execution_count": 18,
   "id": "fdc1815d",
   "metadata": {},
   "outputs": [],
   "source": [
    "def geneticAlgorithmPlot(population, popSize, eliteSize, mutationRate, generations):\n",
    "    pop = initialPopulation(popSize, population)\n",
    "    progress = []\n",
    "    progress.append(1 / rankRoutes(pop)[0][1])\n",
    "    for i in range(0, generations):\n",
    "        pop = nextGeneration(pop, eliteSize, mutationRate)\n",
    "        progress.append(1 / rankRoutes(pop)[0][1])\n",
    "    plt.plot(progress)\n",
    "    plt.ylabel('Distance')\n",
    "    plt.xlabel('Generation')\n",
    "    plt.show()"
   ]
  },
  {
   "cell_type": "code",
   "execution_count": 19,
   "id": "120f4905",
   "metadata": {},
   "outputs": [
    {
     "data": {
      "image/png": "[encoded data removed]",
      "text/plain": [
       "<Figure size 432x288 with 1 Axes>"
      ]
     },
     "metadata": {
      "needs_background": "light"
     },
     "output_type": "display_data"
    }
   ],
   "source": [
    "geneticAlgorithmPlot(population=cityList, popSize=100, eliteSize=20, mutationRate=0.01, generations=500)"
   ]
  },
  {
   "cell_type": "code",
   "execution_count": 40,
   "id": "2963c3c6",
   "metadata": {},
   "outputs": [],
   "source": [
    "archivo=\"datos.txt\"\n",
    "x=[]\n",
    "arch=open(archivo,\"r\")\n",
    "while arch:\n",
    "        linea=arch.readline()\n",
    "        if linea ==\"\":\n",
    "            break\n",
    "        x.append(int(float(linea.strip())))\n",
    "arch.close()"
   ]
  },
  {
   "cell_type": "markdown",
   "id": "086603d2",
   "metadata": {},
   "source": [
    "# Y si ploteamos la ruta optima?"
   ]
  },
  {
   "cell_type": "code",
   "execution_count": 22,
   "id": "6e1b3087",
   "metadata": {},
   "outputs": [],
   "source": [
    "def plotTSP(paths, num_iters=1):\n",
    "\n",
    "\n",
    "    x = []; y = []\n",
    "    for i in paths[0]:\n",
    "        x.append(i.retx())\n",
    "        y.append(i.rety())\n",
    "\n",
    "    plt.plot(x, y, 'co')\n",
    "\n",
    "    #\n",
    "    a_scale = float(max(x))/float(100)\n",
    "\n",
    "\n",
    "    if num_iters > 1:\n",
    "\n",
    "        for i in range(1, num_iters):\n",
    "\n",
    "           \n",
    "            xi = []; yi = [];\n",
    "            for j in paths[i]:\n",
    "                xi.append(j.retx())\n",
    "                yi.append(j.rety())\n",
    "\n",
    "            plt.arrow(xi[-1], yi[-1], (xi[0] - xi[-1]), (yi[0] - yi[-1]),\n",
    "                    head_width = a_scale, color = 'r',\n",
    "                    length_includes_head = True, ls = 'dashed',\n",
    "                    width = 0.001/float(num_iters))\n",
    "            for i in range(0, len(x) - 1):\n",
    "                plt.arrow(xi[i], yi[i], (xi[i+1] - xi[i]), (yi[i+1] - yi[i]),\n",
    "                        head_width = a_scale, color = 'r', length_includes_head = True,\n",
    "                        ls = 'dashed', width = 0.001/float(num_iters))\n",
    "\n",
    "    \n",
    "    plt.arrow(x[-1], y[-1], (x[0] - x[-1]), (y[0] - y[-1]), head_width = a_scale,\n",
    "            color ='g', length_includes_head=True)\n",
    "    for i in range(0,len(x)-1):\n",
    "        plt.arrow(x[i], y[i], (x[i+1] - x[i]), (y[i+1] - y[i]), head_width = a_scale,\n",
    "                color = 'g', length_includes_head = True)\n",
    "\n",
    "   \n",
    "    plt.xlim(min(x)*1.1, max(x)*1.1)\n",
    "    plt.ylim(min(y)*1.1, max(y)*1.1)\n",
    "    plt.show()"
   ]
  },
  {
   "cell_type": "code",
   "execution_count": 48,
   "id": "9985816b",
   "metadata": {},
   "outputs": [
    {
     "data": {
      "text/plain": [
       "[(39,140),\n",
       " (24,32),\n",
       " (197,39),\n",
       " (110,151),\n",
       " (20,196),\n",
       " (34,11),\n",
       " (103,48),\n",
       " (27,198),\n",
       " (117,141),\n",
       " (135,144),\n",
       " (190,117),\n",
       " (171,42),\n",
       " (199,189),\n",
       " (12,13),\n",
       " (144,50),\n",
       " (140,74),\n",
       " (186,3),\n",
       " (21,30),\n",
       " (13,54),\n",
       " (157,33),\n",
       " (38,102),\n",
       " (175,19),\n",
       " (54,60),\n",
       " (155,58),\n",
       " (187,194)]"
      ]
     },
     "execution_count": 48,
     "metadata": {},
     "output_type": "execute_result"
    }
   ],
   "source": [
    "cityList"
   ]
  },
  {
   "cell_type": "code",
   "execution_count": 55,
   "id": "7ee82491",
   "metadata": {},
   "outputs": [],
   "source": [
    "v=[]\n",
    "for i in range (0,100):\n",
    "    v.append(createRoute(cityList))"
   ]
  },
  {
   "cell_type": "code",
   "execution_count": 53,
   "id": "3a639ff9",
   "metadata": {},
   "outputs": [],
   "source": []
  },
  {
   "cell_type": "code",
   "execution_count": 58,
   "id": "b6016326",
   "metadata": {},
   "outputs": [
    {
     "data": {
      "image/png": "[encoded data removed]",
      "text/plain": [
       "<Figure size 432x288 with 1 Axes>"
      ]
     },
     "metadata": {
      "needs_background": "light"
     },
     "output_type": "display_data"
    }
   ],
   "source": [
    "plotTSP(v,len(v)-1)"
   ]
  },
  {
   "cell_type": "code",
   "execution_count": 23,
   "id": "957ee40c",
   "metadata": {},
   "outputs": [],
   "source": [
    "def geneticAlgorithmsuperPlot(population, popSize, eliteSize, mutationRate, generations):\n",
    "    pop = initialPopulation(popSize, population)\n",
    "    progress = []\n",
    "    progress.append(1 / rankRoutes(pop)[0][1])\n",
    "    \n",
    "    for i in range(0, generations):\n",
    "        pop = nextGeneration(pop, eliteSize, mutationRate)\n",
    "        progress.append(1 / rankRoutes(pop)[0][1])\n",
    "    plotTSP([pop[rankRoutes(pop)[0][0]]],1)\n",
    "    plt.plot(progress)\n",
    "    plt.ylabel('Distance')\n",
    "    plt.xlabel('Generation')\n",
    "    plt.show()"
   ]
  },
  {
   "cell_type": "code",
   "execution_count": null,
   "id": "e5dbe534",
   "metadata": {},
   "outputs": [],
   "source": [
    "geneticAlgorithmsuperPlot(population=cityList, popSize=100, eliteSize=20, mutationRate=0.01, generations=200)"
   ]
  },
  {
   "cell_type": "code",
   "execution_count": null,
   "id": "3c75c898",
   "metadata": {},
   "outputs": [],
   "source": []
  }
 ],
 "metadata": {
  "kernelspec": {
   "display_name": "Python 3",
   "language": "python",
   "name": "python3"
  },
  "language_info": {
   "codemirror_mode": {
    "name": "ipython",
    "version": 3
   },
   "file_extension": ".py",
   "mimetype": "text/x-python",
   "name": "python",
   "nbconvert_exporter": "python",
   "pygments_lexer": "ipython3",
   "version": "3.9.4"
  }
 },
 "nbformat": 4,
 "nbformat_minor": 5
}
